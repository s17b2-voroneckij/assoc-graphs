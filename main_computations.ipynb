{
 "cells": [
  {
   "cell_type": "code",
   "execution_count": 1,
   "metadata": {
    "colab": {
     "base_uri": "https://localhost:8080/",
     "height": 34
    },
    "colab_type": "code",
    "executionInfo": {
     "elapsed": 7032,
     "status": "ok",
     "timestamp": 1587494660061,
     "user": {
      "displayName": "Дмитрий Воронецкий",
      "photoUrl": "",
      "userId": "14622894829941091866"
     },
     "user_tz": -180
    },
    "id": "vxSqMHWH21eP",
    "outputId": "eb7209f7-e268-48d1-a0bf-cbfa813d6abd"
   },
   "outputs": [],
   "source": [
    "from quadrics import *\n",
    "import scipy.stats as ss\n",
    "import matplotlib.pyplot as plt"
   ]
  },
  {
   "cell_type": "code",
   "execution_count": 2,
   "metadata": {
    "colab": {},
    "colab_type": "code",
    "id": "VdXhQb581uuL"
   },
   "outputs": [],
   "source": [
    "def graph_from_file(file, limit=0):\n",
    "    word_id = dict()\n",
    "    edges = []\n",
    "    s = file.readline()\n",
    "    i = 0\n",
    "    while s:\n",
    "        w1, w2, weight = s.split(',')\n",
    "        weight = float(weight)\n",
    "        if w1 not in word_id:\n",
    "            word_id[w1] = len(word_id)\n",
    "        if w2 not in word_id:\n",
    "            word_id[w2] = len(word_id)\n",
    "        id1 = word_id[w1]\n",
    "        id2 = word_id[w2]\n",
    "        edges.append([id1, id2, weight])\n",
    "        s = file.readline()\n",
    "        i += 1\n",
    "        if i == limit:\n",
    "            break\n",
    "    return Graph(len(word_id), len(edges), edges), word_id"
   ]
  },
  {
   "cell_type": "code",
   "execution_count": null,
   "metadata": {
    "colab": {},
    "colab_type": "code",
    "id": "2yg9_cZn2v-j"
   },
   "outputs": [],
   "source": []
  },
  {
   "cell_type": "code",
   "execution_count": 3,
   "metadata": {
    "colab": {
     "base_uri": "https://localhost:8080/",
     "height": 51
    },
    "colab_type": "code",
    "executionInfo": {
     "elapsed": 5319,
     "status": "ok",
     "timestamp": 1587494662831,
     "user": {
      "displayName": "Дмитрий Воронецкий",
      "photoUrl": "",
      "userId": "14622894829941091866"
     },
     "user_tz": -180
    },
    "id": "JqH2ptJw1uuP",
    "outputId": "15de9175-aa4d-4d76-87fe-cd7cfc0a59a5"
   },
   "outputs": [
    {
     "name": "stdout",
     "output_type": "stream",
     "text": [
      "Wall time: 3.3 s\n"
     ]
    }
   ],
   "source": [
    "%%time\n",
    "rus_file = open('assoc_net.txt', encoding='utf-8')\n",
    "rus_graph, rus_dict = graph_from_file(rus_file)"
   ]
  },
  {
   "cell_type": "code",
   "execution_count": 4,
   "metadata": {
    "colab": {},
    "colab_type": "code",
    "id": "PM4cWYq01uuS"
   },
   "outputs": [],
   "source": [
    "eng_file = open('assoc_eng2.txt')\n",
    "eng_graph, eng_dict = graph_from_file(eng_file)"
   ]
  },
  {
   "cell_type": "code",
   "execution_count": 5,
   "metadata": {
    "colab": {
     "base_uri": "https://localhost:8080/",
     "height": 34
    },
    "colab_type": "code",
    "executionInfo": {
     "elapsed": 1218,
     "status": "ok",
     "timestamp": 1587482468815,
     "user": {
      "displayName": "Дмитрий Воронецкий",
      "photoUrl": "",
      "userId": "14622894829941091866"
     },
     "user_tz": -180
    },
    "id": "qKCkpzZ71uuW",
    "outputId": "91533e51-b586-439b-c05b-a1c26e7abe44"
   },
   "outputs": [
    {
     "data": {
      "text/plain": [
       "(5019, 63629)"
      ]
     },
     "execution_count": 5,
     "metadata": {},
     "output_type": "execute_result"
    }
   ],
   "source": [
    "eng_graph.V, eng_graph.E"
   ]
  },
  {
   "cell_type": "code",
   "execution_count": 6,
   "metadata": {
    "colab": {
     "base_uri": "https://localhost:8080/",
     "height": 34
    },
    "colab_type": "code",
    "executionInfo": {
     "elapsed": 1286,
     "status": "ok",
     "timestamp": 1587482469827,
     "user": {
      "displayName": "Дмитрий Воронецкий",
      "photoUrl": "",
      "userId": "14622894829941091866"
     },
     "user_tz": -180
    },
    "id": "AoYo1yu01uud",
    "outputId": "c5493302-1b07-4da5-e457-b613ec980233"
   },
   "outputs": [
    {
     "data": {
      "text/plain": [
       "(57108, 645056)"
      ]
     },
     "execution_count": 6,
     "metadata": {},
     "output_type": "execute_result"
    }
   ],
   "source": [
    "rus_graph.V, rus_graph.E"
   ]
  },
  {
   "cell_type": "code",
   "execution_count": 7,
   "metadata": {
    "colab": {},
    "colab_type": "code",
    "id": "t6k6U_vy1uug"
   },
   "outputs": [],
   "source": [
    "rg1 = rand_graph(eng_graph.V, eng_graph.E)"
   ]
  },
  {
   "cell_type": "code",
   "execution_count": 8,
   "metadata": {
    "colab": {},
    "colab_type": "code",
    "id": "eeHcg1eW1uuk"
   },
   "outputs": [],
   "source": [
    "rg2 = rand_graph(rus_graph.V, rus_graph.E)"
   ]
  },
  {
   "cell_type": "code",
   "execution_count": 9,
   "metadata": {},
   "outputs": [
    {
     "name": "stdout",
     "output_type": "stream",
     "text": [
      "5019 63629\n",
      "57108 645056\n"
     ]
    }
   ],
   "source": [
    "print(rg1.V, rg1.E)\n",
    "print(rg2.V, rg2.E)"
   ]
  },
  {
   "cell_type": "code",
   "execution_count": 9,
   "metadata": {
    "colab": {
     "base_uri": "https://localhost:8080/",
     "height": 51
    },
    "colab_type": "code",
    "executionInfo": {
     "elapsed": 20145,
     "status": "ok",
     "timestamp": 1587494682224,
     "user": {
      "displayName": "Дмитрий Воронецкий",
      "photoUrl": "",
      "userId": "14622894829941091866"
     },
     "user_tz": -180
    },
    "id": "xrvTQesG3p1v",
    "outputId": "a1d2f8cc-b2e3-48b2-e1d0-bab3f1bae874"
   },
   "outputs": [
    {
     "name": "stdout",
     "output_type": "stream",
     "text": [
      "CPU times: user 10.3 s, sys: 7.37 s, total: 17.6 s\n",
      "Wall time: 17.6 s\n"
     ]
    }
   ],
   "source": [
    "%%time\n",
    "a = Graph.laplace_matrix(rg2)"
   ]
  },
  {
   "cell_type": "code",
   "execution_count": 0,
   "metadata": {
    "colab": {},
    "colab_type": "code",
    "id": "pn1QINv56_4u"
   },
   "outputs": [],
   "source": [
    "%%time\n",
    "#a = eigenvalues(a)"
   ]
  },
  {
   "cell_type": "code",
   "execution_count": 12,
   "metadata": {
    "colab": {
     "base_uri": "https://localhost:8080/",
     "height": 155
    },
    "colab_type": "code",
    "id": "_v1MeHdeOeeC",
    "outputId": "4335f427-bb8a-4ac5-c340-75123b32448d"
   },
   "outputs": [
    {
     "name": "stdout",
     "output_type": "stream",
     "text": [
      "CPU times: user 17min 5s, sys: 1min 11s, total: 18min 17s\n",
      "Wall time: 13min 50s\n"
     ]
    }
   ],
   "source": [
    "%%time\n",
    "b = eig_fast(a)"
   ]
  },
  {
   "cell_type": "code",
   "execution_count": 0,
   "metadata": {
    "colab": {
     "base_uri": "https://localhost:8080/",
     "height": 34
    },
    "colab_type": "code",
    "executionInfo": {
     "elapsed": 2045,
     "status": "ok",
     "timestamp": 1587475163012,
     "user": {
      "displayName": "Дмитрий Воронецкий",
      "photoUrl": "",
      "userId": "14622894829941091866"
     },
     "user_tz": -180
    },
    "id": "IDIuorZ_5ApP",
    "outputId": "1d70dc25-2746-49e2-c05b-199e1f9e22ac"
   },
   "outputs": [
    {
     "data": {
      "text/plain": [
       "5019"
      ]
     },
     "execution_count": 19,
     "metadata": {
      "tags": []
     },
     "output_type": "execute_result"
    }
   ],
   "source": [
    "a.sort()\n",
    "len(a)"
   ]
  },
  {
   "cell_type": "code",
   "execution_count": 9,
   "metadata": {
    "colab": {},
    "colab_type": "code",
    "id": "uDwuu42vOxey"
   },
   "outputs": [],
   "source": [
    "def wasserstein_distance1(a, b):\n",
    "    Len = min(len(a), len(b))\n",
    "    return ss.wasserstein_distance(a[:Len], b[:Len])\n",
    "\n",
    "def wasserstein_distance2(a, b):\n",
    "    if len(a) > len(b):\n",
    "        a, b = b, a\n",
    "    return ss.wasserstein_distance(a + [0] * (len(b) - len(a)), b)\n",
    "\n",
    "def save(vector, string):\n",
    "    f = open(string, 'w')\n",
    "    print(vector, file=f)\n",
    "    f.close()"
   ]
  },
  {
   "cell_type": "code",
   "execution_count": 10,
   "metadata": {
    "colab": {},
    "colab_type": "code",
    "id": "PnIFu7kd1uuq"
   },
   "outputs": [],
   "source": [
    "def compare(func, threshold):\n",
    "    M1 = func(eng_graph, min_weight=threshold)\n",
    "    M2 = func(rus_graph, min_weight=threshold)\n",
    "    e1 = eigenvalues(M1)\n",
    "    save(e1, str(func) + '_eng_' + str(threshold))\n",
    "    e2 = eig_fast(M2)\n",
    "    save(e2, str(func) + '_rus_' + str(threshold))\n",
    "    rm1 = func(rg1, min_weight=threshold)\n",
    "    rm2 = func(rg2, min_weight=threshold)\n",
    "    e3 = eigenvalues(rm1)\n",
    "    e4 = eig_fast(rm2)\n",
    "    save(e3, str(func) + '_rand1_' + str(threshold))\n",
    "    save(e4, str(func) + '_rand2_' + str(threshold))\n",
    "    print('Distance between russian and english', wasserstein_distance1(e1, e2))\n",
    "    print('Distance between random1 and english', wasserstein_distance1(e1, e3))\n",
    "    print('Distance between random2 and english', wasserstein_distance1(e1, e4))\n",
    "    print('Distance between russian and random1', wasserstein_distance1(e2, e3))\n",
    "    print('Distance between russian and random2', wasserstein_distance1(e2, e4))\n",
    "    print('Distance between russian and english', wasserstein_distance2(e1, e2))\n",
    "    print('Distance between random1 and english', wasserstein_distance2(e1, e3))\n",
    "    print('Distance between random2 and english', wasserstein_distance2(e1, e4))\n",
    "    print('Distance between russian and random1', wasserstein_distance2(e2, e3))\n",
    "    #print('Distance between russian and random2', wasserstein_distance2(e2, e4))"
   ]
  },
  {
   "cell_type": "code",
   "execution_count": 11,
   "metadata": {
    "colab": {
     "base_uri": "https://localhost:8080/",
     "height": 103
    },
    "colab_type": "code",
    "executionInfo": {
     "elapsed": 14815,
     "status": "ok",
     "timestamp": 1587480870768,
     "user": {
      "displayName": "Дмитрий Воронецкий",
      "photoUrl": "",
      "userId": "14622894829941091866"
     },
     "user_tz": -180
    },
    "id": "FZbSYKI31uuw",
    "outputId": "d908c13f-c1ea-44d5-9ea4-68c756045480"
   },
   "outputs": [
    {
     "name": "stdout",
     "output_type": "stream",
     "text": [
      "WARNING:tensorflow:From /home/dima/Yandex.Disk/quadrics.py:310: The name tf.get_default_session is deprecated. Please use tf.compat.v1.get_default_session instead.\n",
      "\n",
      "WARNING:tensorflow:From /usr/local/lib/python3.5/dist-packages/keras/backend/tensorflow_backend.py:39: The name tf.reset_default_graph is deprecated. Please use tf.compat.v1.reset_default_graph instead.\n",
      "\n",
      "WARNING:tensorflow:From /usr/local/lib/python3.5/dist-packages/keras/backend/tensorflow_backend.py:42: The name tf.placeholder is deprecated. Please use tf.compat.v1.placeholder instead.\n",
      "\n",
      "WARNING:tensorflow:From /usr/local/lib/python3.5/dist-packages/keras/backend/tensorflow_backend.py:43: The name tf.get_default_graph is deprecated. Please use tf.compat.v1.get_default_graph instead.\n",
      "\n",
      "WARNING:tensorflow:From /home/dima/Yandex.Disk/quadrics.py:317: The name tf.ConfigProto is deprecated. Please use tf.compat.v1.ConfigProto instead.\n",
      "\n",
      "WARNING:tensorflow:From /home/dima/Yandex.Disk/quadrics.py:319: The name tf.InteractiveSession is deprecated. Please use tf.compat.v1.InteractiveSession instead.\n",
      "\n"
     ]
    },
    {
     "name": "stderr",
     "output_type": "stream",
     "text": [
      "/usr/local/lib/python3.5/dist-packages/numpy/core/_asarray.py:85: ComplexWarning: Casting complex values to real discards the imaginary part\n",
      "  return array(a, dtype, copy=False, order=order)\n"
     ]
    },
    {
     "name": "stdout",
     "output_type": "stream",
     "text": [
      "Distance between russian and english 0.18728830452624692\n",
      "Distance between random1 and english 9.947001387610285\n",
      "Distance between random2 and english 3.883861025780125\n",
      "Distance between russian and random1 10.134289692136532\n",
      "Distance between russian and random2 8.015374378370764\n"
     ]
    }
   ],
   "source": [
    "compare(Graph.laplace_matrix, 0.6)"
   ]
  },
  {
   "cell_type": "code",
   "execution_count": 11,
   "metadata": {
    "colab": {
     "base_uri": "https://localhost:8080/",
     "height": 103
    },
    "colab_type": "code",
    "executionInfo": {
     "elapsed": 26297,
     "status": "ok",
     "timestamp": 1587480883919,
     "user": {
      "displayName": "Дмитрий Воронецкий",
      "photoUrl": "",
      "userId": "14622894829941091866"
     },
     "user_tz": -180
    },
    "id": "x-nmrBWH1uuz",
    "outputId": "d96d10de-25d2-4397-92e9-c741fbab09fe"
   },
   "outputs": [
    {
     "name": "stdout",
     "output_type": "stream",
     "text": [
      "WARNING:tensorflow:From /home/dima/Yandex.Disk/quadrics.py:310: The name tf.get_default_session is deprecated. Please use tf.compat.v1.get_default_session instead.\n",
      "\n",
      "WARNING:tensorflow:From /usr/local/lib/python3.5/dist-packages/keras/backend/tensorflow_backend.py:39: The name tf.reset_default_graph is deprecated. Please use tf.compat.v1.reset_default_graph instead.\n",
      "\n",
      "WARNING:tensorflow:From /usr/local/lib/python3.5/dist-packages/keras/backend/tensorflow_backend.py:42: The name tf.placeholder is deprecated. Please use tf.compat.v1.placeholder instead.\n",
      "\n",
      "WARNING:tensorflow:From /usr/local/lib/python3.5/dist-packages/keras/backend/tensorflow_backend.py:43: The name tf.get_default_graph is deprecated. Please use tf.compat.v1.get_default_graph instead.\n",
      "\n",
      "WARNING:tensorflow:From /home/dima/Yandex.Disk/quadrics.py:317: The name tf.ConfigProto is deprecated. Please use tf.compat.v1.ConfigProto instead.\n",
      "\n",
      "WARNING:tensorflow:From /home/dima/Yandex.Disk/quadrics.py:319: The name tf.InteractiveSession is deprecated. Please use tf.compat.v1.InteractiveSession instead.\n",
      "\n"
     ]
    },
    {
     "name": "stderr",
     "output_type": "stream",
     "text": [
      "/usr/local/lib/python3.5/dist-packages/numpy/core/_asarray.py:85: ComplexWarning: Casting complex values to real discards the imaginary part\n",
      "  return array(a, dtype, copy=False, order=order)\n"
     ]
    },
    {
     "name": "stdout",
     "output_type": "stream",
     "text": [
      "Distance between russian and english 0.5586770280949225\n",
      "Distance between random1 and english 14.688184891223406\n",
      "Distance between random2 and english 6.7984958077497195\n",
      "Distance between russian and random1 15.246861919318329\n",
      "Distance between russian and random2 11.990053932898995\n",
      "Distance between russian and english 2.7161518525598423\n",
      "Distance between random1 and english 14.688184891223406\n",
      "Distance between random2 and english 13.508895598812495\n",
      "Distance between russian and random1 1.4638194474776112\n"
     ]
    },
    {
     "ename": "ValueError",
     "evalue": "operands could not be broadcast together with shapes (57108,) (0,) ",
     "output_type": "error",
     "traceback": [
      "\u001b[0;31m---------------------------------------------------------------------------\u001b[0m",
      "\u001b[0;31mValueError\u001b[0m                                Traceback (most recent call last)",
      "\u001b[0;32m<ipython-input-11-e81a3d273181>\u001b[0m in \u001b[0;36m<module>\u001b[0;34m\u001b[0m\n\u001b[0;32m----> 1\u001b[0;31m \u001b[0mcompare\u001b[0m\u001b[0;34m(\u001b[0m\u001b[0mGraph\u001b[0m\u001b[0;34m.\u001b[0m\u001b[0mlaplace_matrix\u001b[0m\u001b[0;34m,\u001b[0m \u001b[0;36m0.4\u001b[0m\u001b[0;34m)\u001b[0m\u001b[0;34m\u001b[0m\u001b[0m\n\u001b[0m",
      "\u001b[0;32m<ipython-input-10-7524f0ab7ef4>\u001b[0m in \u001b[0;36mcompare\u001b[0;34m(func, threshold)\u001b[0m\n\u001b[1;32m     21\u001b[0m     \u001b[0mprint\u001b[0m\u001b[0;34m(\u001b[0m\u001b[0;34m'Distance between random2 and english'\u001b[0m\u001b[0;34m,\u001b[0m \u001b[0mwasserstein_distance2\u001b[0m\u001b[0;34m(\u001b[0m\u001b[0me1\u001b[0m\u001b[0;34m,\u001b[0m \u001b[0me4\u001b[0m\u001b[0;34m)\u001b[0m\u001b[0;34m)\u001b[0m\u001b[0;34m\u001b[0m\u001b[0m\n\u001b[1;32m     22\u001b[0m     \u001b[0mprint\u001b[0m\u001b[0;34m(\u001b[0m\u001b[0;34m'Distance between russian and random1'\u001b[0m\u001b[0;34m,\u001b[0m \u001b[0mwasserstein_distance2\u001b[0m\u001b[0;34m(\u001b[0m\u001b[0me2\u001b[0m\u001b[0;34m,\u001b[0m \u001b[0me3\u001b[0m\u001b[0;34m)\u001b[0m\u001b[0;34m)\u001b[0m\u001b[0;34m\u001b[0m\u001b[0m\n\u001b[0;32m---> 23\u001b[0;31m     \u001b[0mprint\u001b[0m\u001b[0;34m(\u001b[0m\u001b[0;34m'Distance between russian and random2'\u001b[0m\u001b[0;34m,\u001b[0m \u001b[0mwasserstein_distance2\u001b[0m\u001b[0;34m(\u001b[0m\u001b[0me2\u001b[0m\u001b[0;34m,\u001b[0m \u001b[0me4\u001b[0m\u001b[0;34m)\u001b[0m\u001b[0;34m)\u001b[0m\u001b[0;34m\u001b[0m\u001b[0m\n\u001b[0m",
      "\u001b[0;32m<ipython-input-9-51ba08720e77>\u001b[0m in \u001b[0;36mwasserstein_distance2\u001b[0;34m(a, b)\u001b[0m\n\u001b[1;32m      6\u001b[0m     \u001b[0;32mif\u001b[0m \u001b[0mlen\u001b[0m\u001b[0;34m(\u001b[0m\u001b[0ma\u001b[0m\u001b[0;34m)\u001b[0m \u001b[0;34m>\u001b[0m \u001b[0mlen\u001b[0m\u001b[0;34m(\u001b[0m\u001b[0mb\u001b[0m\u001b[0;34m)\u001b[0m\u001b[0;34m:\u001b[0m\u001b[0;34m\u001b[0m\u001b[0m\n\u001b[1;32m      7\u001b[0m         \u001b[0ma\u001b[0m\u001b[0;34m,\u001b[0m \u001b[0mb\u001b[0m \u001b[0;34m=\u001b[0m \u001b[0mb\u001b[0m\u001b[0;34m,\u001b[0m \u001b[0ma\u001b[0m\u001b[0;34m\u001b[0m\u001b[0m\n\u001b[0;32m----> 8\u001b[0;31m     \u001b[0;32mreturn\u001b[0m \u001b[0mss\u001b[0m\u001b[0;34m.\u001b[0m\u001b[0mwasserstein_distance\u001b[0m\u001b[0;34m(\u001b[0m\u001b[0ma\u001b[0m \u001b[0;34m+\u001b[0m \u001b[0;34m[\u001b[0m\u001b[0;36m0\u001b[0m\u001b[0;34m]\u001b[0m \u001b[0;34m*\u001b[0m \u001b[0;34m(\u001b[0m\u001b[0mlen\u001b[0m\u001b[0;34m(\u001b[0m\u001b[0mb\u001b[0m\u001b[0;34m)\u001b[0m \u001b[0;34m-\u001b[0m \u001b[0mlen\u001b[0m\u001b[0;34m(\u001b[0m\u001b[0ma\u001b[0m\u001b[0;34m)\u001b[0m\u001b[0;34m)\u001b[0m\u001b[0;34m,\u001b[0m \u001b[0mb\u001b[0m\u001b[0;34m)\u001b[0m\u001b[0;34m\u001b[0m\u001b[0m\n\u001b[0m\u001b[1;32m      9\u001b[0m \u001b[0;34m\u001b[0m\u001b[0m\n\u001b[1;32m     10\u001b[0m \u001b[0;32mdef\u001b[0m \u001b[0msave\u001b[0m\u001b[0;34m(\u001b[0m\u001b[0mvector\u001b[0m\u001b[0;34m,\u001b[0m \u001b[0mstring\u001b[0m\u001b[0;34m)\u001b[0m\u001b[0;34m:\u001b[0m\u001b[0;34m\u001b[0m\u001b[0m\n",
      "\u001b[0;31mValueError\u001b[0m: operands could not be broadcast together with shapes (57108,) (0,) "
     ]
    }
   ],
   "source": [
    "compare(Graph.laplace_matrix, 0.4)"
   ]
  },
  {
   "cell_type": "code",
   "execution_count": 12,
   "metadata": {
    "colab": {
     "base_uri": "https://localhost:8080/",
     "height": 103
    },
    "colab_type": "code",
    "executionInfo": {
     "elapsed": 36889,
     "status": "ok",
     "timestamp": 1587480896993,
     "user": {
      "displayName": "Дмитрий Воронецкий",
      "photoUrl": "",
      "userId": "14622894829941091866"
     },
     "user_tz": -180
    },
    "id": "1QGJ8_sQ1uu4",
    "outputId": "68f5490e-e0ae-42a7-ee37-c619b267ce2f"
   },
   "outputs": [
    {
     "name": "stdout",
     "output_type": "stream",
     "text": [
      "Distance between russian and english 0.009165172345088735\n",
      "Distance between random1 and english 3.727435744200351\n",
      "Distance between random2 and english 0.6156604901374776\n",
      "Distance between russian and random1 3.7366009165454392\n",
      "Distance between russian and random2 3.0089654689360437\n",
      "Distance between russian and english 0.6583666036282053\n",
      "Distance between random1 and english 3.727435744200351\n",
      "Distance between random2 and english 3.3939903341038025\n",
      "Distance between russian and random1 0.34283093293860406\n"
     ]
    },
    {
     "ename": "ValueError",
     "evalue": "operands could not be broadcast together with shapes (57108,) (0,) ",
     "output_type": "error",
     "traceback": [
      "\u001b[0;31m---------------------------------------------------------------------------\u001b[0m",
      "\u001b[0;31mValueError\u001b[0m                                Traceback (most recent call last)",
      "\u001b[0;32m<ipython-input-12-c66cea263c08>\u001b[0m in \u001b[0;36m<module>\u001b[0;34m\u001b[0m\n\u001b[0;32m----> 1\u001b[0;31m \u001b[0mcompare\u001b[0m\u001b[0;34m(\u001b[0m\u001b[0mGraph\u001b[0m\u001b[0;34m.\u001b[0m\u001b[0mlaplace_matrix\u001b[0m\u001b[0;34m,\u001b[0m \u001b[0;36m0.85\u001b[0m\u001b[0;34m)\u001b[0m\u001b[0;34m\u001b[0m\u001b[0m\n\u001b[0m",
      "\u001b[0;32m<ipython-input-10-7524f0ab7ef4>\u001b[0m in \u001b[0;36mcompare\u001b[0;34m(func, threshold)\u001b[0m\n\u001b[1;32m     21\u001b[0m     \u001b[0mprint\u001b[0m\u001b[0;34m(\u001b[0m\u001b[0;34m'Distance between random2 and english'\u001b[0m\u001b[0;34m,\u001b[0m \u001b[0mwasserstein_distance2\u001b[0m\u001b[0;34m(\u001b[0m\u001b[0me1\u001b[0m\u001b[0;34m,\u001b[0m \u001b[0me4\u001b[0m\u001b[0;34m)\u001b[0m\u001b[0;34m)\u001b[0m\u001b[0;34m\u001b[0m\u001b[0m\n\u001b[1;32m     22\u001b[0m     \u001b[0mprint\u001b[0m\u001b[0;34m(\u001b[0m\u001b[0;34m'Distance between russian and random1'\u001b[0m\u001b[0;34m,\u001b[0m \u001b[0mwasserstein_distance2\u001b[0m\u001b[0;34m(\u001b[0m\u001b[0me2\u001b[0m\u001b[0;34m,\u001b[0m \u001b[0me3\u001b[0m\u001b[0;34m)\u001b[0m\u001b[0;34m)\u001b[0m\u001b[0;34m\u001b[0m\u001b[0m\n\u001b[0;32m---> 23\u001b[0;31m     \u001b[0mprint\u001b[0m\u001b[0;34m(\u001b[0m\u001b[0;34m'Distance between russian and random2'\u001b[0m\u001b[0;34m,\u001b[0m \u001b[0mwasserstein_distance2\u001b[0m\u001b[0;34m(\u001b[0m\u001b[0me2\u001b[0m\u001b[0;34m,\u001b[0m \u001b[0me4\u001b[0m\u001b[0;34m)\u001b[0m\u001b[0;34m)\u001b[0m\u001b[0;34m\u001b[0m\u001b[0m\n\u001b[0m",
      "\u001b[0;32m<ipython-input-9-51ba08720e77>\u001b[0m in \u001b[0;36mwasserstein_distance2\u001b[0;34m(a, b)\u001b[0m\n\u001b[1;32m      6\u001b[0m     \u001b[0;32mif\u001b[0m \u001b[0mlen\u001b[0m\u001b[0;34m(\u001b[0m\u001b[0ma\u001b[0m\u001b[0;34m)\u001b[0m \u001b[0;34m>\u001b[0m \u001b[0mlen\u001b[0m\u001b[0;34m(\u001b[0m\u001b[0mb\u001b[0m\u001b[0;34m)\u001b[0m\u001b[0;34m:\u001b[0m\u001b[0;34m\u001b[0m\u001b[0m\n\u001b[1;32m      7\u001b[0m         \u001b[0ma\u001b[0m\u001b[0;34m,\u001b[0m \u001b[0mb\u001b[0m \u001b[0;34m=\u001b[0m \u001b[0mb\u001b[0m\u001b[0;34m,\u001b[0m \u001b[0ma\u001b[0m\u001b[0;34m\u001b[0m\u001b[0m\n\u001b[0;32m----> 8\u001b[0;31m     \u001b[0;32mreturn\u001b[0m \u001b[0mss\u001b[0m\u001b[0;34m.\u001b[0m\u001b[0mwasserstein_distance\u001b[0m\u001b[0;34m(\u001b[0m\u001b[0ma\u001b[0m \u001b[0;34m+\u001b[0m \u001b[0;34m[\u001b[0m\u001b[0;36m0\u001b[0m\u001b[0;34m]\u001b[0m \u001b[0;34m*\u001b[0m \u001b[0;34m(\u001b[0m\u001b[0mlen\u001b[0m\u001b[0;34m(\u001b[0m\u001b[0mb\u001b[0m\u001b[0;34m)\u001b[0m \u001b[0;34m-\u001b[0m \u001b[0mlen\u001b[0m\u001b[0;34m(\u001b[0m\u001b[0ma\u001b[0m\u001b[0;34m)\u001b[0m\u001b[0;34m)\u001b[0m\u001b[0;34m,\u001b[0m \u001b[0mb\u001b[0m\u001b[0;34m)\u001b[0m\u001b[0;34m\u001b[0m\u001b[0m\n\u001b[0m\u001b[1;32m      9\u001b[0m \u001b[0;34m\u001b[0m\u001b[0m\n\u001b[1;32m     10\u001b[0m \u001b[0;32mdef\u001b[0m \u001b[0msave\u001b[0m\u001b[0;34m(\u001b[0m\u001b[0mvector\u001b[0m\u001b[0;34m,\u001b[0m \u001b[0mstring\u001b[0m\u001b[0;34m)\u001b[0m\u001b[0;34m:\u001b[0m\u001b[0;34m\u001b[0m\u001b[0m\n",
      "\u001b[0;31mValueError\u001b[0m: operands could not be broadcast together with shapes (57108,) (0,) "
     ]
    }
   ],
   "source": [
    "compare(Graph.laplace_matrix, 0.85)"
   ]
  },
  {
   "cell_type": "code",
   "execution_count": null,
   "metadata": {
    "colab": {
     "base_uri": "https://localhost:8080/",
     "height": 103
    },
    "colab_type": "code",
    "executionInfo": {
     "elapsed": 48347,
     "status": "ok",
     "timestamp": 1587480910752,
     "user": {
      "displayName": "Дмитрий Воронецкий",
      "photoUrl": "",
      "userId": "14622894829941091866"
     },
     "user_tz": -180
    },
    "id": "IBpvQA1M1uu_",
    "outputId": "f3a144e6-6a45-4589-becb-e7ee11a1f7e9"
   },
   "outputs": [
    {
     "name": "stdout",
     "output_type": "stream",
     "text": [
      "WARNING:tensorflow:From /home/dima/Yandex.Disk/quadrics.py:310: The name tf.get_default_session is deprecated. Please use tf.compat.v1.get_default_session instead.\n",
      "\n",
      "WARNING:tensorflow:From /usr/local/lib/python3.5/dist-packages/keras/backend/tensorflow_backend.py:39: The name tf.reset_default_graph is deprecated. Please use tf.compat.v1.reset_default_graph instead.\n",
      "\n",
      "WARNING:tensorflow:From /usr/local/lib/python3.5/dist-packages/keras/backend/tensorflow_backend.py:42: The name tf.placeholder is deprecated. Please use tf.compat.v1.placeholder instead.\n",
      "\n",
      "WARNING:tensorflow:From /usr/local/lib/python3.5/dist-packages/keras/backend/tensorflow_backend.py:43: The name tf.get_default_graph is deprecated. Please use tf.compat.v1.get_default_graph instead.\n",
      "\n",
      "WARNING:tensorflow:From /home/dima/Yandex.Disk/quadrics.py:317: The name tf.ConfigProto is deprecated. Please use tf.compat.v1.ConfigProto instead.\n",
      "\n",
      "WARNING:tensorflow:From /home/dima/Yandex.Disk/quadrics.py:319: The name tf.InteractiveSession is deprecated. Please use tf.compat.v1.InteractiveSession instead.\n",
      "\n"
     ]
    }
   ],
   "source": [
    "compare(Graph.adjacency_matrix, 0.4)"
   ]
  },
  {
   "cell_type": "code",
   "execution_count": null,
   "metadata": {
    "colab": {
     "base_uri": "https://localhost:8080/",
     "height": 103
    },
    "colab_type": "code",
    "executionInfo": {
     "elapsed": 59536,
     "status": "ok",
     "timestamp": 1587480924001,
     "user": {
      "displayName": "Дмитрий Воронецкий",
      "photoUrl": "",
      "userId": "14622894829941091866"
     },
     "user_tz": -180
    },
    "id": "BgnJG_Jc1uvC",
    "outputId": "ee4a227c-c276-4eab-cc24-de2b8927d768"
   },
   "outputs": [],
   "source": [
    "compare(Graph.adjacency_matrix, 0.6)"
   ]
  },
  {
   "cell_type": "code",
   "execution_count": null,
   "metadata": {
    "colab": {
     "base_uri": "https://localhost:8080/",
     "height": 103
    },
    "colab_type": "code",
    "executionInfo": {
     "elapsed": 71523,
     "status": "ok",
     "timestamp": 1587480936901,
     "user": {
      "displayName": "Дмитрий Воронецкий",
      "photoUrl": "",
      "userId": "14622894829941091866"
     },
     "user_tz": -180
    },
    "id": "5AFNNY7I1uvE",
    "outputId": "ea9abd48-7e79-4da3-8b74-7af750be4ca6"
   },
   "outputs": [],
   "source": [
    "compare(Graph.adjacency_matrix, 0.85)"
   ]
  },
  {
   "cell_type": "markdown",
   "metadata": {
    "colab": {},
    "colab_type": "code",
    "id": "_PtMDbOO1uvH"
   },
   "source": [
    "Здесь попробуем сравнивать английский граф с случайными графами с хорошо подобранными распределениями."
   ]
  },
  {
   "cell_type": "code",
   "execution_count": 10,
   "metadata": {},
   "outputs": [
    {
     "name": "stdout",
     "output_type": "stream",
     "text": [
      "14.64355449687855\n"
     ]
    },
    {
     "name": "stderr",
     "output_type": "stream",
     "text": [
      "C:\\ProgramData\\Anaconda3\\lib\\site-packages\\numpy\\core\\_asarray.py:85: ComplexWarning: Casting complex values to real discards the imaginary part\n",
      "  return array(a, dtype, copy=False, order=order)\n"
     ]
    }
   ],
   "source": [
    "rg_normal = rand_graph(eng_graph.V, eng_graph.E)\n",
    "rg_normal_matr = rg_normal.laplace_matrix(min_weight=0.4)\n",
    "eng_matr = eng_graph.laplace_matrix(min_weight=0.4)\n",
    "e_rg_normal = eigenvalues(rg_normal_matr)\n",
    "e_eng_matr = eigenvalues(eng_matr)\n",
    "print(ss.wasserstein_distance(e_rg_normal, e_eng_matr))"
   ]
  },
  {
   "cell_type": "code",
   "execution_count": null,
   "metadata": {},
   "outputs": [],
   "source": []
  },
  {
   "cell_type": "code",
   "execution_count": 11,
   "metadata": {},
   "outputs": [
    {
     "name": "stdout",
     "output_type": "stream",
     "text": [
      "1.2012630221466416\n"
     ]
    }
   ],
   "source": [
    "rg_exp = rand_graph(eng_graph.V, eng_graph.E, lambda: np.random.exponential(0.15, 1)[0])\n",
    "rg_exp_matr = rg_exp.laplace_matrix(min_weight=0.4)\n",
    "e_rg_exp = eigenvalues(rg_exp_matr)\n",
    "print(ss.wasserstein_distance(e_rg_exp, e_eng_matr))"
   ]
  },
  {
   "cell_type": "code",
   "execution_count": 12,
   "metadata": {},
   "outputs": [
    {
     "name": "stdout",
     "output_type": "stream",
     "text": [
      "2.9075962759407425\n"
     ]
    }
   ],
   "source": [
    "rg_gamma = rand_graph(eng_graph.V, eng_graph.E, lambda: np.random.gamma(0.25, 0.7, 1)[0])\n",
    "rg_gamma_matr = rg_gamma.laplace_matrix(min_weight=0.4)\n",
    "e_rg_gamma = eigenvalues(rg_gamma_matr)\n",
    "print(ss.wasserstein_distance(e_rg_gamma, e_eng_matr))"
   ]
  },
  {
   "cell_type": "code",
   "execution_count": 13,
   "metadata": {},
   "outputs": [],
   "source": [
    "f = open('assoc_net.txt', encoding='utf-8').readlines()\n",
    "nums = []\n",
    "for line in f:\n",
    "    line = line.split(',')\n",
    "    nums.append(float(line[-1]))"
   ]
  },
  {
   "cell_type": "code",
   "execution_count": 14,
   "metadata": {},
   "outputs": [
    {
     "name": "stdout",
     "output_type": "stream",
     "text": [
      "2.503519340065531\n"
     ]
    }
   ],
   "source": [
    "rg_mock = rand_graph(eng_graph.V, eng_graph.E, lambda: nums[randint(0, len(nums) - 1)])\n",
    "rg_mock_matr = rg_mock.laplace_matrix(min_weight=0.4)\n",
    "e_mock_exp = eigenvalues(rg_mock_matr)\n",
    "print(ss.wasserstein_distance(e_mock_exp, e_eng_matr))"
   ]
  },
  {
   "cell_type": "code",
   "execution_count": 15,
   "metadata": {},
   "outputs": [],
   "source": [
    "f = open('assoc_eng2.txt', encoding='utf-8').readlines()\n",
    "nums = []\n",
    "for line in f:\n",
    "    line = line.split(',')\n",
    "    nums.append(float(line[-1]))"
   ]
  },
  {
   "cell_type": "code",
   "execution_count": 16,
   "metadata": {},
   "outputs": [
    {
     "name": "stdout",
     "output_type": "stream",
     "text": [
      "0.16008592783383493\n"
     ]
    }
   ],
   "source": [
    "rg_mock = rand_graph(eng_graph.V, eng_graph.E, lambda: nums[randint(0, len(nums) - 1)])\n",
    "rg_mock_matr = rg_mock.laplace_matrix(min_weight=0.4)\n",
    "e_mock_exp = eigenvalues(rg_mock_matr)\n",
    "print(ss.wasserstein_distance(e_mock_exp, e_eng_matr))"
   ]
  },
  {
   "cell_type": "code",
   "execution_count": 25,
   "metadata": {},
   "outputs": [],
   "source": [
    "weights = [edge[2] for edge in rg_mock.edges]"
   ]
  },
  {
   "cell_type": "code",
   "execution_count": 26,
   "metadata": {},
   "outputs": [
    {
     "data": {
      "image/png": "[encoded data removed]",
      "text/plain": [
       "<Figure size 432x288 with 1 Axes>"
      ]
     },
     "metadata": {
      "needs_background": "light"
     },
     "output_type": "display_data"
    }
   ],
   "source": [
    "plt.hist(weights, bins=500)\n",
    "plt.show()"
   ]
  },
  {
   "cell_type": "code",
   "execution_count": 24,
   "metadata": {},
   "outputs": [
    {
     "data": {
      "image/png": "[encoded data removed]",
      "text/plain": [
       "<Figure size 432x288 with 1 Axes>"
      ]
     },
     "metadata": {
      "needs_background": "light"
     },
     "output_type": "display_data"
    }
   ],
   "source": [
    "weights = [edge[2] for edge in eng_graph.edges]\n",
    "plt.hist(weights, bins=500)\n",
    "plt.show()"
   ]
  },
  {
   "cell_type": "code",
   "execution_count": 10,
   "metadata": {},
   "outputs": [
    {
     "ename": "NameError",
     "evalue": "name 'e_eng_matr' is not defined",
     "output_type": "error",
     "traceback": [
      "\u001b[1;31m---------------------------------------------------------------------------\u001b[0m",
      "\u001b[1;31mNameError\u001b[0m                                 Traceback (most recent call last)",
      "\u001b[1;32m<ipython-input-10-42ce6d39ad02>\u001b[0m in \u001b[0;36m<module>\u001b[1;34m\u001b[0m\n\u001b[0;32m      2\u001b[0m \u001b[0mrg_lognorm_matr\u001b[0m \u001b[1;33m=\u001b[0m \u001b[0mrg_lognorm\u001b[0m\u001b[1;33m.\u001b[0m\u001b[0mlaplace_matrix\u001b[0m\u001b[1;33m(\u001b[0m\u001b[0mmin_weight\u001b[0m\u001b[1;33m=\u001b[0m\u001b[1;36m0.4\u001b[0m\u001b[1;33m)\u001b[0m\u001b[1;33m\u001b[0m\u001b[1;33m\u001b[0m\u001b[0m\n\u001b[0;32m      3\u001b[0m \u001b[0me_rg_lognorm\u001b[0m \u001b[1;33m=\u001b[0m \u001b[0meigenvalues\u001b[0m\u001b[1;33m(\u001b[0m\u001b[0mrg_lognorm_matr\u001b[0m\u001b[1;33m)\u001b[0m\u001b[1;33m\u001b[0m\u001b[1;33m\u001b[0m\u001b[0m\n\u001b[1;32m----> 4\u001b[1;33m \u001b[0mprint\u001b[0m\u001b[1;33m(\u001b[0m\u001b[0mss\u001b[0m\u001b[1;33m.\u001b[0m\u001b[0mwasserstein_distance\u001b[0m\u001b[1;33m(\u001b[0m\u001b[0me_rg_lognorm\u001b[0m\u001b[1;33m,\u001b[0m \u001b[0me_eng_matr\u001b[0m\u001b[1;33m)\u001b[0m\u001b[1;33m)\u001b[0m\u001b[1;33m\u001b[0m\u001b[1;33m\u001b[0m\u001b[0m\n\u001b[0m",
      "\u001b[1;31mNameError\u001b[0m: name 'e_eng_matr' is not defined"
     ]
    }
   ],
   "source": [
    "rg_lognorm = rand_graph(eng_graph.V, eng_graph.E, lambda: np.random.lognormal(-2.0, 0.7, 1)[0])\n",
    "rg_lognorm_matr = rg_lognorm.laplace_matrix(min_weight=0.4)\n",
    "e_rg_lognorm = eigenvalues(rg_lognorm_matr)"
   ]
  },
  {
   "cell_type": "code",
   "execution_count": 12,
   "metadata": {},
   "outputs": [],
   "source": [
    "eng_matr = eng_graph.laplace_matrix(min_weight=0.4)\n",
    "e_eng_matr = eigenvalues(eng_matr)"
   ]
  },
  {
   "cell_type": "code",
   "execution_count": 13,
   "metadata": {},
   "outputs": [
    {
     "name": "stdout",
     "output_type": "stream",
     "text": [
      "0.961346969266049\n"
     ]
    },
    {
     "name": "stderr",
     "output_type": "stream",
     "text": [
      "C:\\ProgramData\\Anaconda3\\lib\\site-packages\\numpy\\core\\_asarray.py:85: ComplexWarning: Casting complex values to real discards the imaginary part\n",
      "  return array(a, dtype, copy=False, order=order)\n"
     ]
    }
   ],
   "source": [
    "print(ss.wasserstein_distance(e_rg_lognorm, e_eng_matr))"
   ]
  },
  {
   "cell_type": "code",
   "execution_count": 14,
   "metadata": {},
   "outputs": [],
   "source": [
    "f = open('assoc_net.txt', encoding='utf-8').readlines()\n",
    "nums = []\n",
    "for line in f:\n",
    "    line = line.split(',')\n",
    "    nums.append(float(line[-1]))"
   ]
  },
  {
   "cell_type": "code",
   "execution_count": 15,
   "metadata": {},
   "outputs": [
    {
     "name": "stdout",
     "output_type": "stream",
     "text": [
      "2.5029342823022986\n"
     ]
    }
   ],
   "source": [
    "rg_mock = rand_graph(eng_graph.V, eng_graph.E, lambda: nums[randint(0, len(nums) - 1)])\n",
    "rg_mock_matr = rg_mock.laplace_matrix(min_weight=0.4)\n",
    "e_mock_exp = eigenvalues(rg_mock_matr)\n",
    "print(ss.wasserstein_distance(e_mock_exp, e_eng_matr))"
   ]
  },
  {
   "cell_type": "code",
   "execution_count": null,
   "metadata": {},
   "outputs": [],
   "source": []
  }
 ],
 "metadata": {
  "accelerator": "GPU",
  "colab": {
   "machine_shape": "hm",
   "name": "Untitled1.ipynb",
   "provenance": []
  },
  "kernelspec": {
   "display_name": "Python 3",
   "language": "python",
   "name": "python3"
  },
  "language_info": {
   "codemirror_mode": {
    "name": "ipython",
    "version": 3
   },
   "file_extension": ".py",
   "mimetype": "text/x-python",
   "name": "python",
   "nbconvert_exporter": "python",
   "pygments_lexer": "ipython3",
   "version": "3.8.3"
  }
 },
 "nbformat": 4,
 "nbformat_minor": 1
}
